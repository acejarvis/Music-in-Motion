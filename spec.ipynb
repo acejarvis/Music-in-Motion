{
 "cells": [
  {
   "cell_type": "code",
   "execution_count": null,
   "metadata": {},
   "outputs": [],
   "source": [
    "import pyaudio\n",
    "import struct              \n",
    "import numpy as np\n",
    "import matplotlib.pyplot as plt\n",
    "from scipy.fftpack import fft\n",
    "import time\n",
    "from tkinter import TclError\n",
    "\n",
    "# to display in sep. Tk window\n",
    "%matplotlib tk                            \n",
    "\n",
    "CHUNK = 1024*2                            # (arbitrary) num-frames audio signals are split-into\n",
    "FORMAT = pyaudio.paInt16                  # 16-bit sample-size\n",
    "CHANNELS = 1                              # 1 audio-source\n",
    "RATE = 44100                              # (Hz) sampling-rate "
   ]
  },
  {
   "cell_type": "code",
   "execution_count": null,
   "metadata": {},
   "outputs": [],
   "source": [
    "# the plot we show the spectrum & waveform in\n",
    "fig, (ax1,ax2) = plt.subplots(2, figsize=(15,7))\n",
    "\n",
    "# PyAudio Inst. (The Audio Object)\n",
    "p = pyaudio.PyAudio() \n",
    "\n",
    "# Open Microphone | Get Audio Waveform \n",
    "stream = p.open(\n",
    "    format = FORMAT, channels = CHANNELS, rate = RATE,        # not sure how ^ opens mic\n",
    "    input=True, output=True, frames_per_buffer = CHUNK\n",
    ")\n",
    "\n",
    "# We have 2 Plots: Waveform & Spectrum\n",
    "xSignal = np.arange(0, 2*CHUNK, 2)                     # Waveform Domain  (0 : Num-Samples)\n",
    "xFft = np.linspace(0, RATE, CHUNK)              # Spectrum Domain  (0 : Max-Freq)\n",
    "\n",
    "# The plots' starting-frame is random \n",
    "lineSignal, = ax1.plot(xSignal, np.random.rand(CHUNK),'-',lw=2)                 # Waveform Plot\n",
    "lineFft, = ax2.semilogx(xFft, np.random.rand(CHUNK),'-',lw=2)\n",
    " \n",
    "# Make Graphs \"Pretty\"\n",
    "ax1.set_title('AUDIO WAVEFORM')\n",
    "ax1.set_xlabel('Samples'); ax1.set_ylabel('Volume')\n",
    "ax1.set_ylim(0, 255); ax1.set_xlim(0, 2*CHUNK)\n",
    "plt.setp(ax1, xticks=[0, CHUNK, 2 * CHUNK], yticks=[0, 128, 255])\n",
    "\n",
    "ax2.set_xlim(20, RATE/2)\n",
    "\n",
    "print('Our stream started!')\n",
    "\n",
    "# FPS\n",
    "frame_count = 0\n",
    "start_time = time.time()\n",
    "\n",
    "# Live Data streams to Matplotlib\n",
    "while True:\n",
    "    \n",
    "    # The Waveform we get is in Binary | make np array\n",
    "    dataBin = stream.read(CHUNK) \n",
    "    # convert data to integers, make np array, then offset it by 128\n",
    "    dataInt = struct.unpack(str(2 * CHUNK) + 'B', dataBin)\n",
    "    # create np array and offset by 128\n",
    "    dataNp = np.array(dataInt, dtype='b')[::2] + 128  #Graph is offset by 128\n",
    "    lineSignal.set_ydata(dataNp)\n",
    "    \n",
    "    # The Spectrum is the Fourier-Transform of our Waveform\n",
    "    yf = fft(dataInt) # fft = \"fast fourier transform\"\n",
    "    yfData = np.abs(yf[0:CHUNK]) / (128*CHUNK)\n",
    "    lineFft.set_ydata(yfData)\n",
    "    \n",
    "    print(yfData)\n",
    "    \n",
    "    # update plots\n",
    "    try:\n",
    "        fig.canvas.draw()\n",
    "        fig.canvas.flush_events()\n",
    "        frame_count += 1\n",
    "        \n",
    "    except TclError:\n",
    "        # calculate average frame rate\n",
    "        frame_rate = frame_count / (time.time() - start_time)\n",
    "        print('stream stopped')\n",
    "        print('average frame rate = {:.0f} FPS'.format(frame_rate))\n",
    "        break"
   ]
  },
  {
   "cell_type": "code",
   "execution_count": null,
   "metadata": {},
   "outputs": [],
   "source": [
    "\n",
    "\n",
    "\n",
    "\n"
   ]
  },
  {
   "cell_type": "code",
   "execution_count": null,
   "metadata": {},
   "outputs": [],
   "source": []
  },
  {
   "cell_type": "code",
   "execution_count": null,
   "metadata": {},
   "outputs": [],
   "source": []
  },
  {
   "cell_type": "code",
   "execution_count": null,
   "metadata": {},
   "outputs": [],
   "source": []
  }
 ],
 "metadata": {
  "kernelspec": {
   "display_name": "Python 3",
   "language": "python",
   "name": "python3"
  },
  "language_info": {
   "codemirror_mode": {
    "name": "ipython",
    "version": 3
   },
   "file_extension": ".py",
   "mimetype": "text/x-python",
   "name": "python",
   "nbconvert_exporter": "python",
   "pygments_lexer": "ipython3",
   "version": "3.6.6"
  }
 },
 "nbformat": 4,
 "nbformat_minor": 2
}
